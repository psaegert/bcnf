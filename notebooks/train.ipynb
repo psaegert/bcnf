{
 "cells": [
  {
   "cell_type": "code",
   "execution_count": 1,
   "metadata": {},
   "outputs": [
    {
     "name": "stdout",
     "output_type": "stream",
     "text": [
      "Using device: cuda\n"
     ]
    }
   ],
   "source": [
    "import os\n",
    "import torch\n",
    "import json\n",
    "\n",
    "from bcnf.utils import get_dir, load_config, sub_root_path\n",
    "from bcnf.train import Trainer\n",
    "from bcnf import CondRealNVP_v2\n",
    "\n",
    "device = torch.device(\"cuda\" if torch.cuda.is_available() else \"cpu\")\n",
    "print(f\"Using device: {device}\")"
   ]
  },
  {
   "cell_type": "code",
   "execution_count": 2,
   "metadata": {},
   "outputs": [],
   "source": [
    "MODEL_NAME = 'trajectory_LSTM_large_small_cond_hybrid_dual'"
   ]
  },
  {
   "cell_type": "code",
   "execution_count": 3,
   "metadata": {},
   "outputs": [
    {
     "name": "stdout",
     "output_type": "stream",
     "text": [
      "Loading config from /home/psaegert/Projects/bcnf/configs/runs/trajectory_LSTM_large_small_cond_hybrid_dual.yaml\n"
     ]
    }
   ],
   "source": [
    "config_path_pattern = os.path.join(\"{{BCNF_ROOT}}\", \"configs\", \"runs\", f\"{MODEL_NAME}.yaml\")\n",
    "config_path = sub_root_path(config_path_pattern)\n",
    "print(f'Loading config from {config_path}')\n",
    "\n",
    "config = load_config(config_path, verify=False)"
   ]
  },
  {
   "cell_type": "code",
   "execution_count": 4,
   "metadata": {},
   "outputs": [
    {
     "name": "stdout",
     "output_type": "stream",
     "text": [
      "32,334,282\n"
     ]
    }
   ],
   "source": [
    "model = CondRealNVP_v2.from_config(config).to(device)\n",
    "\n",
    "print(f'{model.n_params:,}')"
   ]
  },
  {
   "cell_type": "code",
   "execution_count": 5,
   "metadata": {},
   "outputs": [
    {
     "data": {
      "text/plain": [
       "(48, 852, 615)"
      ]
     },
     "execution_count": 5,
     "metadata": {},
     "output_type": "execute_result"
    }
   ],
   "source": [
    "48,852,615"
   ]
  },
  {
   "cell_type": "code",
   "execution_count": 6,
   "metadata": {},
   "outputs": [
    {
     "name": "stdout",
     "output_type": "stream",
     "text": [
      "Using dtype: torch.float32\n",
      "Loading data from /home/psaegert/Projects/bcnf/data/bcnf-data-public/train-trajectories...\n"
     ]
    },
    {
     "name": "stderr",
     "output_type": "stream",
     "text": [
      "Loading data from directory: 100%|██████████| 4/4 [00:00<00:00, 251.02it/s, file=fixed_data_render_2s_15FPS_4.pkl]"
     ]
    },
    {
     "name": "stdout",
     "output_type": "stream",
     "text": [
      "Found key \"traj\" in file \"fixed_data_render_2s_15FPS_1.pkl\". Renaming to \"trajectories\".\n",
      "Found key \"traj\" in file \"fixed_data_render_2s_15FPS_2.pkl\". Renaming to \"trajectories\".\n",
      "Found key \"traj\" in file \"fixed_data_render_2s_15FPS_3.pkl\". Renaming to \"trajectories\".\n",
      "Found key \"traj\" in file \"fixed_data_render_2s_15FPS_4.pkl\". Renaming to \"trajectories\".\n",
      "Using trajectories data for training. Shapes:\n",
      "Conditions: [torch.Size([4000, 30, 3])]\n",
      "Parameters: torch.Size([4000, 19])\n"
     ]
    },
    {
     "name": "stderr",
     "output_type": "stream",
     "text": [
      "\n"
     ]
    }
   ],
   "source": [
    "trainer = Trainer(\n",
    "    config={k.lower(): v for k, v in config.to_dict().items()},\n",
    "    project_name=\"bcnf-test\",\n",
    "    parameter_index_mapping=model.parameter_index_mapping,\n",
    "    verbose=True,\n",
    ")"
   ]
  },
  {
   "cell_type": "code",
   "execution_count": 7,
   "metadata": {},
   "outputs": [
    {
     "name": "stderr",
     "output_type": "stream",
     "text": [
      "Failed to detect the name of this notebook, you can set it manually with the WANDB_NOTEBOOK_NAME environment variable to enable code saving.\n",
      "\u001b[34m\u001b[1mwandb\u001b[0m: Currently logged in as: \u001b[33mpsaegert\u001b[0m (\u001b[33mbcnf\u001b[0m). Use \u001b[1m`wandb login --relogin`\u001b[0m to force relogin\n"
     ]
    },
    {
     "data": {
      "text/html": [
       "wandb version 0.16.5 is available!  To upgrade, please run:\n",
       " $ pip install wandb --upgrade"
      ],
      "text/plain": [
       "<IPython.core.display.HTML object>"
      ]
     },
     "metadata": {},
     "output_type": "display_data"
    },
    {
     "data": {
      "text/html": [
       "Tracking run with wandb version 0.16.3"
      ],
      "text/plain": [
       "<IPython.core.display.HTML object>"
      ]
     },
     "metadata": {},
     "output_type": "display_data"
    },
    {
     "data": {
      "text/html": [
       "Run data is saved locally in <code>/home/psaegert/Projects/bcnf/notebooks/wandb/run-20240402_163326-e9uxzp0a</code>"
      ],
      "text/plain": [
       "<IPython.core.display.HTML object>"
      ]
     },
     "metadata": {},
     "output_type": "display_data"
    },
    {
     "data": {
      "text/html": [
       "Syncing run <strong><a href='https://wandb.ai/bcnf/bcnf-test/runs/e9uxzp0a' target=\"_blank\">flowing-resonance-59</a></strong> to <a href='https://wandb.ai/bcnf/bcnf-test' target=\"_blank\">Weights & Biases</a> (<a href='https://wandb.me/run' target=\"_blank\">docs</a>)<br/>"
      ],
      "text/plain": [
       "<IPython.core.display.HTML object>"
      ]
     },
     "metadata": {},
     "output_type": "display_data"
    },
    {
     "data": {
      "text/html": [
       " View project at <a href='https://wandb.ai/bcnf/bcnf-test' target=\"_blank\">https://wandb.ai/bcnf/bcnf-test</a>"
      ],
      "text/plain": [
       "<IPython.core.display.HTML object>"
      ]
     },
     "metadata": {},
     "output_type": "display_data"
    },
    {
     "data": {
      "text/html": [
       " View run at <a href='https://wandb.ai/bcnf/bcnf-test/runs/e9uxzp0a' target=\"_blank\">https://wandb.ai/bcnf/bcnf-test/runs/e9uxzp0a</a>"
      ],
      "text/plain": [
       "<IPython.core.display.HTML object>"
      ]
     },
     "metadata": {},
     "output_type": "display_data"
    },
    {
     "name": "stderr",
     "output_type": "stream",
     "text": [
      "  0%|          | 0/50000 [00:00<?, ?it/s]"
     ]
    },
    {
     "name": "stdout",
     "output_type": "stream",
     "text": [
      "torch.Size([256, 30, 3])\n",
      "torch.Size([256, 30, 280])\n",
      "torch.Size([256, 16, 6])\n",
      "torch.Size([256, 16, 280])\n",
      "torch.Size([256, 30, 3])\n",
      "torch.Size([256, 30, 280])\n",
      "torch.Size([256, 16, 6])\n",
      "torch.Size([256, 16, 280])\n",
      "torch.Size([256, 30, 3])\n",
      "torch.Size([256, 30, 280])\n",
      "torch.Size([256, 16, 6])\n",
      "torch.Size([256, 16, 280])\n",
      "torch.Size([256, 30, 3])\n",
      "torch.Size([256, 30, 280])\n",
      "torch.Size([256, 16, 6])\n",
      "torch.Size([256, 16, 280])\n",
      "torch.Size([256, 30, 3])\n",
      "torch.Size([256, 30, 280])\n",
      "torch.Size([256, 16, 6])\n",
      "torch.Size([256, 16, 280])\n",
      "torch.Size([256, 30, 3])\n",
      "torch.Size([256, 30, 280])\n",
      "torch.Size([256, 16, 6])\n",
      "torch.Size([256, 16, 280])\n",
      "torch.Size([256, 30, 3])\n",
      "torch.Size([256, 30, 280])\n",
      "torch.Size([256, 16, 6])\n",
      "torch.Size([256, 16, 280])\n",
      "torch.Size([256, 30, 3])\n",
      "torch.Size([256, 30, 280])\n",
      "torch.Size([256, 16, 6])\n",
      "torch.Size([256, 16, 280])\n",
      "torch.Size([256, 30, 3])\n",
      "torch.Size([256, 30, 280])\n",
      "torch.Size([256, 16, 6])\n",
      "torch.Size([256, 16, 280])\n",
      "torch.Size([256, 30, 3])\n",
      "torch.Size([256, 30, 280])\n",
      "torch.Size([256, 16, 6])\n",
      "torch.Size([256, 16, 280])\n",
      "torch.Size([256, 30, 3])\n",
      "torch.Size([256, 30, 280])\n",
      "torch.Size([256, 16, 6])\n",
      "torch.Size([256, 16, 280])\n"
     ]
    },
    {
     "name": "stderr",
     "output_type": "stream",
     "text": [
      "Train: 160.625 - Val: 38.308 (avg: 38.308, min: inf) | lr: 2.00e-04 - Patience: 0/500 - z: (0.020 ± 0.467) ± (1.013 ± 0.262) - ldJ: -27.28:   0%|          | 1/50000 [00:00<12:58:03,  1.07it/s]"
     ]
    },
    {
     "name": "stdout",
     "output_type": "stream",
     "text": [
      "torch.Size([256, 30, 3])\n",
      "torch.Size([256, 30, 280])\n",
      "torch.Size([256, 16, 6])\n",
      "torch.Size([256, 16, 280])\n",
      "torch.Size([129, 30, 3])\n",
      "torch.Size([129, 30, 280])\n",
      "torch.Size([129, 16, 6])\n",
      "torch.Size([129, 16, 280])\n",
      "torch.Size([256, 30, 3])\n",
      "torch.Size([256, 30, 280])\n",
      "torch.Size([256, 16, 6])\n",
      "torch.Size([256, 16, 280])\n",
      "torch.Size([256, 30, 3])\n",
      "torch.Size([256, 30, 280])\n",
      "torch.Size([256, 16, 6])\n",
      "torch.Size([256, 16, 280])\n",
      "torch.Size([256, 30, 3])\n",
      "torch.Size([256, 30, 280])\n",
      "torch.Size([256, 16, 6])\n",
      "torch.Size([256, 16, 280])\n",
      "torch.Size([31, 30, 3])\n",
      "torch.Size([31, 30, 280])\n",
      "torch.Size([31, 16, 6])\n",
      "torch.Size([31, 16, 280])\n",
      "torch.Size([256, 30, 3])\n",
      "torch.Size([256, 30, 280])\n",
      "torch.Size([256, 16, 6])\n",
      "torch.Size([256, 16, 280])\n",
      "torch.Size([256, 30, 3])\n",
      "torch.Size([256, 30, 280])\n",
      "torch.Size([256, 16, 6])\n",
      "torch.Size([256, 16, 280])\n",
      "torch.Size([256, 30, 3])\n",
      "torch.Size([256, 30, 280])\n",
      "torch.Size([256, 16, 6])\n",
      "torch.Size([256, 16, 280])\n",
      "torch.Size([256, 30, 3])\n",
      "torch.Size([256, 30, 280])\n",
      "torch.Size([256, 16, 6])\n",
      "torch.Size([256, 16, 280])\n",
      "torch.Size([256, 30, 3])\n",
      "torch.Size([256, 30, 280])\n",
      "torch.Size([256, 16, 6])\n",
      "torch.Size([256, 16, 280])\n",
      "torch.Size([256, 30, 3])\n",
      "torch.Size([256, 30, 280])\n",
      "torch.Size([256, 16, 6])\n",
      "torch.Size([256, 16, 280])\n",
      "torch.Size([256, 30, 3])\n",
      "torch.Size([256, 30, 280])\n",
      "torch.Size([256, 16, 6])\n",
      "torch.Size([256, 16, 280])\n",
      "torch.Size([256, 30, 3])\n",
      "torch.Size([256, 30, 280])\n",
      "torch.Size([256, 16, 6])\n",
      "torch.Size([256, 16, 280])\n",
      "torch.Size([256, 30, 3])\n",
      "torch.Size([256, 30, 280])\n",
      "torch.Size([256, 16, 6])\n",
      "torch.Size([256, 16, 280])\n",
      "torch.Size([256, 30, 3])\n",
      "torch.Size([256, 30, 280])\n",
      "torch.Size([256, 16, 6])\n",
      "torch.Size([256, 16, 280])\n",
      "torch.Size([256, 30, 3])\n",
      "torch.Size([256, 30, 280])\n",
      "torch.Size([256, 16, 6])\n",
      "torch.Size([256, 16, 280])\n",
      "torch.Size([256, 30, 3])\n",
      "torch.Size([256, 30, 280])\n",
      "torch.Size([256, 16, 6])\n",
      "torch.Size([256, 16, 280])\n"
     ]
    },
    {
     "name": "stderr",
     "output_type": "stream",
     "text": [
      "Train: 160.625 - Val: 38.308 (avg: 38.308, min: inf) | lr: 2.00e-04 - Patience: 0/500 - z: (0.020 ± 0.467) ± (1.013 ± 0.262) - ldJ: -27.28:   0%|          | 1/50000 [00:01<21:17:25,  1.53s/it]"
     ]
    },
    {
     "name": "stdout",
     "output_type": "stream",
     "text": [
      "torch.Size([129, 30, 3])\n",
      "torch.Size([129, 30, 280])\n",
      "torch.Size([129, 16, 6])\n",
      "torch.Size([129, 16, 280])\n",
      "torch.Size([256, 30, 3])\n",
      "torch.Size([256, 30, 280])\n",
      "torch.Size([256, 16, 6])\n",
      "torch.Size([256, 16, 280])\n",
      "torch.Size([256, 30, 3])\n",
      "torch.Size([256, 30, 280])\n",
      "torch.Size([256, 16, 6])\n",
      "torch.Size([256, 16, 280])\n",
      "torch.Size([256, 30, 3])\n",
      "torch.Size([256, 30, 280])\n",
      "torch.Size([256, 16, 6])\n",
      "torch.Size([256, 16, 280])\n"
     ]
    },
    {
     "name": "stderr",
     "output_type": "stream",
     "text": [
      "\n",
      "Traceback (most recent call last):\n",
      "  File \"/home/psaegert/Projects/bcnf/src/bcnf/train/trainer.py\", line 103, in train\n",
      "    model = self._train(\n",
      "            ^^^^^^^^^^^^\n",
      "  File \"/home/psaegert/Projects/bcnf/src/bcnf/train/trainer.py\", line 254, in _train\n",
      "    loss, nll_loss, mse_loss, z_mean, z_std = self._validate_batch(y, *conditions, model=model, loss_function=loss_function)\n",
      "                                              ^^^^^^^^^^^^^^^^^^^^^^^^^^^^^^^^^^^^^^^^^^^^^^^^^^^^^^^^^^^^^^^^^^^^^^^^^^^^^^\n",
      "  File \"/home/psaegert/Projects/bcnf/src/bcnf/train/trainer.py\", line 352, in _validate_batch\n",
      "    z, h = model.forward(\n",
      "           ^^^^^^^^^^^^^^\n",
      "  File \"/home/psaegert/Projects/bcnf/src/bcnf/models/cnf.py\", line 473, in forward\n",
      "    self.log_det_J = torch.zeros(y.shape[0]).to(self.device)\n",
      "                     ^^^^^^^^^^^^^^^^^^^^^^^^^^^^^^^^^^^^^^^\n",
      "KeyboardInterrupt\n",
      "wandb: WARNING Source type is set to 'repo' but some required information is missing from the environment. A job will not be created from this run. See https://docs.wandb.ai/guides/launch/create-job\n"
     ]
    },
    {
     "data": {
      "application/vnd.jupyter.widget-view+json": {
       "model_id": "3463804c812340d3a51a8329a130e511",
       "version_major": 2,
       "version_minor": 0
      },
      "text/plain": [
       "VBox(children=(Label(value='0.004 MB of 0.004 MB uploaded\\r'), FloatProgress(value=1.0, max=1.0)))"
      ]
     },
     "metadata": {},
     "output_type": "display_data"
    },
    {
     "data": {
      "text/html": [
       "<style>\n",
       "    table.wandb td:nth-child(1) { padding: 0 10px; text-align: left ; width: auto;} td:nth-child(2) {text-align: left ; width: 100%}\n",
       "    .wandb-row { display: flex; flex-direction: row; flex-wrap: wrap; justify-content: flex-start; width: 100% }\n",
       "    .wandb-col { display: flex; flex-direction: column; flex-basis: 100%; flex: 1; padding: 10px; }\n",
       "    </style>\n",
       "<div class=\"wandb-row\"><div class=\"wandb-col\"><h3>Run history:</h3><br/><table class=\"wandb\"><tr><td>distance_to_last_best_val_loss_fold_-1</td><td>▁</td></tr><tr><td>epoch</td><td>▁</td></tr><tr><td>log_det_J_fold_-1</td><td>▁</td></tr><tr><td>lr_fold_-1</td><td>▁</td></tr><tr><td>time_fold_-1</td><td>▁</td></tr><tr><td>train_loss_fold_-1</td><td>▁</td></tr><tr><td>train_loss_mse_fold_-1</td><td>▁</td></tr><tr><td>train_loss_nll_fold_-1</td><td>▁</td></tr><tr><td>val_loss_fold_-1</td><td>▁</td></tr><tr><td>val_loss_mse_fold_-1</td><td>▁</td></tr><tr><td>val_loss_nll_fold_-1</td><td>▁</td></tr><tr><td>z_mean_mean_fold_-1</td><td>▁</td></tr><tr><td>z_mean_std_fold_-1</td><td>▁</td></tr><tr><td>z_std_mean_fold_-1</td><td>▁</td></tr><tr><td>z_std_std_fold_-1</td><td>▁</td></tr></table><br/></div><div class=\"wandb-col\"><h3>Run summary:</h3><br/><table class=\"wandb\"><tr><td>distance_to_last_best_val_loss_fold_-1</td><td>0</td></tr><tr><td>epoch</td><td>1</td></tr><tr><td>log_det_J_fold_-1</td><td>-27.28097</td></tr><tr><td>lr_fold_-1</td><td>0.0002</td></tr><tr><td>time_fold_-1</td><td>1712068410.04215</td></tr><tr><td>train_loss_fold_-1</td><td>160.62542</td></tr><tr><td>train_loss_mse_fold_-1</td><td>0.0</td></tr><tr><td>train_loss_nll_fold_-1</td><td>160.62542</td></tr><tr><td>val_loss_fold_-1</td><td>38.30807</td></tr><tr><td>val_loss_mse_fold_-1</td><td>0.0</td></tr><tr><td>val_loss_nll_fold_-1</td><td>38.30807</td></tr><tr><td>z_mean_mean_fold_-1</td><td>0.01978</td></tr><tr><td>z_mean_std_fold_-1</td><td>0.46745</td></tr><tr><td>z_std_mean_fold_-1</td><td>1.01289</td></tr><tr><td>z_std_std_fold_-1</td><td>0.26174</td></tr></table><br/></div></div>"
      ],
      "text/plain": [
       "<IPython.core.display.HTML object>"
      ]
     },
     "metadata": {},
     "output_type": "display_data"
    },
    {
     "data": {
      "text/html": [
       " View run <strong style=\"color:#cdcd00\">flowing-resonance-59</strong> at: <a href='https://wandb.ai/bcnf/bcnf-test/runs/e9uxzp0a' target=\"_blank\">https://wandb.ai/bcnf/bcnf-test/runs/e9uxzp0a</a><br/>Synced 6 W&B file(s), 0 media file(s), 0 artifact file(s) and 0 other file(s)"
      ],
      "text/plain": [
       "<IPython.core.display.HTML object>"
      ]
     },
     "metadata": {},
     "output_type": "display_data"
    },
    {
     "data": {
      "text/html": [
       "Find logs at: <code>./wandb/run-20240402_163326-e9uxzp0a/logs</code>"
      ],
      "text/plain": [
       "<IPython.core.display.HTML object>"
      ]
     },
     "metadata": {},
     "output_type": "display_data"
    },
    {
     "ename": "KeyboardInterrupt",
     "evalue": "",
     "output_type": "error",
     "traceback": [
      "\u001b[0;31m---------------------------------------------------------------------------\u001b[0m",
      "\u001b[0;31mKeyboardInterrupt\u001b[0m                         Traceback (most recent call last)",
      "Cell \u001b[0;32mIn[7], line 1\u001b[0m\n\u001b[0;32m----> 1\u001b[0m model \u001b[38;5;241m=\u001b[39m trainer\u001b[38;5;241m.\u001b[39mtrain(model)\n",
      "File \u001b[0;32m~/Projects/bcnf/src/bcnf/train/trainer.py:103\u001b[0m, in \u001b[0;36mTrainer.train\u001b[0;34m(self, model)\u001b[0m\n\u001b[1;32m    100\u001b[0m \u001b[38;5;28mself\u001b[39m\u001b[38;5;241m.\u001b[39mmse_loss \u001b[38;5;241m=\u001b[39m torch\u001b[38;5;241m.\u001b[39mnn\u001b[38;5;241m.\u001b[39mMSELoss()\n\u001b[1;32m    102\u001b[0m \u001b[38;5;66;03m# and use them to train the model\u001b[39;00m\n\u001b[0;32m--> 103\u001b[0m model \u001b[38;5;241m=\u001b[39m \u001b[38;5;28mself\u001b[39m\u001b[38;5;241m.\u001b[39m_train(\n\u001b[1;32m    104\u001b[0m     model,\n\u001b[1;32m    105\u001b[0m     train_loader,\n\u001b[1;32m    106\u001b[0m     val_loader,\n\u001b[1;32m    107\u001b[0m     \u001b[38;5;28mself\u001b[39m\u001b[38;5;241m.\u001b[39mloss_function,\n\u001b[1;32m    108\u001b[0m     optimizer,\n\u001b[1;32m    109\u001b[0m     scheduler)\n\u001b[1;32m    111\u001b[0m \u001b[38;5;28;01mreturn\u001b[39;00m model\n",
      "File \u001b[0;32m~/Projects/bcnf/src/bcnf/train/trainer.py:254\u001b[0m, in \u001b[0;36mTrainer._train\u001b[0;34m(self, model, train_loader, val_loader, loss_function, optimizer, scheduler, **kwargs)\u001b[0m\n\u001b[1;32m    252\u001b[0m \u001b[38;5;28;01mfor\u001b[39;00m data \u001b[38;5;129;01min\u001b[39;00m val_loader:\n\u001b[1;32m    253\u001b[0m     y, \u001b[38;5;241m*\u001b[39mconditions \u001b[38;5;241m=\u001b[39m data\n\u001b[0;32m--> 254\u001b[0m     loss, nll_loss, mse_loss, z_mean, z_std \u001b[38;5;241m=\u001b[39m \u001b[38;5;28mself\u001b[39m\u001b[38;5;241m.\u001b[39m_validate_batch(y, \u001b[38;5;241m*\u001b[39mconditions, model\u001b[38;5;241m=\u001b[39mmodel, loss_function\u001b[38;5;241m=\u001b[39mloss_function)\n\u001b[1;32m    256\u001b[0m     val_loss \u001b[38;5;241m+\u001b[39m\u001b[38;5;241m=\u001b[39m loss\n\u001b[1;32m    257\u001b[0m     val_loss_mse \u001b[38;5;241m+\u001b[39m\u001b[38;5;241m=\u001b[39m mse_loss\n",
      "File \u001b[0;32m~/Projects/bcnf/src/bcnf/train/trainer.py:352\u001b[0m, in \u001b[0;36mTrainer._validate_batch\u001b[0;34m(self, y, model, loss_function, *conditions)\u001b[0m\n\u001b[1;32m    344\u001b[0m \u001b[38;5;28;01mdef\u001b[39;00m \u001b[38;5;21m_validate_batch\u001b[39m(\n\u001b[1;32m    345\u001b[0m         \u001b[38;5;28mself\u001b[39m,\n\u001b[1;32m    346\u001b[0m         y: torch\u001b[38;5;241m.\u001b[39mTensor,\n\u001b[0;32m   (...)\u001b[0m\n\u001b[1;32m    350\u001b[0m \n\u001b[1;32m    351\u001b[0m     \u001b[38;5;66;03m# Run the model\u001b[39;00m\n\u001b[0;32m--> 352\u001b[0m     z, h \u001b[38;5;241m=\u001b[39m model\u001b[38;5;241m.\u001b[39mforward(\n\u001b[1;32m    353\u001b[0m         y\u001b[38;5;241m.\u001b[39mto(model\u001b[38;5;241m.\u001b[39mdevice),\n\u001b[1;32m    354\u001b[0m         \u001b[38;5;241m*\u001b[39m[c\u001b[38;5;241m.\u001b[39mto(model\u001b[38;5;241m.\u001b[39mdevice) \u001b[38;5;28;01mfor\u001b[39;00m c \u001b[38;5;129;01min\u001b[39;00m conditions],\n\u001b[1;32m    355\u001b[0m         log_det_J\u001b[38;5;241m=\u001b[39m\u001b[38;5;28;01mTrue\u001b[39;00m,\n\u001b[1;32m    356\u001b[0m         return_features\u001b[38;5;241m=\u001b[39m\u001b[38;5;28;01mTrue\u001b[39;00m)\n\u001b[1;32m    358\u001b[0m     \u001b[38;5;28;01mif\u001b[39;00m \u001b[38;5;28mself\u001b[39m\u001b[38;5;241m.\u001b[39mhybrid_weight \u001b[38;5;241m>\u001b[39m \u001b[38;5;241m0\u001b[39m:\n\u001b[1;32m    359\u001b[0m         y_hat \u001b[38;5;241m=\u001b[39m model\u001b[38;5;241m.\u001b[39mprediction_head(h)\n",
      "File \u001b[0;32m~/Projects/bcnf/src/bcnf/models/cnf.py:473\u001b[0m, in \u001b[0;36mCondRealNVP_v2.forward\u001b[0;34m(self, y, log_det_J, return_features, *conditions)\u001b[0m\n\u001b[1;32m    471\u001b[0m \u001b[38;5;66;03m# Apply the network\u001b[39;00m\n\u001b[1;32m    472\u001b[0m \u001b[38;5;28;01mif\u001b[39;00m log_det_J:\n\u001b[0;32m--> 473\u001b[0m     \u001b[38;5;28mself\u001b[39m\u001b[38;5;241m.\u001b[39mlog_det_J \u001b[38;5;241m=\u001b[39m torch\u001b[38;5;241m.\u001b[39mzeros(y\u001b[38;5;241m.\u001b[39mshape[\u001b[38;5;241m0\u001b[39m])\u001b[38;5;241m.\u001b[39mto(\u001b[38;5;28mself\u001b[39m\u001b[38;5;241m.\u001b[39mdevice)\n\u001b[1;32m    475\u001b[0m \u001b[38;5;28;01mfor\u001b[39;00m layer \u001b[38;5;129;01min\u001b[39;00m \u001b[38;5;28mself\u001b[39m\u001b[38;5;241m.\u001b[39mlayers:\n\u001b[1;32m    476\u001b[0m     \u001b[38;5;28;01mif\u001b[39;00m \u001b[38;5;28misinstance\u001b[39m(layer, ConditionalInvertibleLayer) \u001b[38;5;129;01mand\u001b[39;00m \u001b[38;5;28mself\u001b[39m\u001b[38;5;241m.\u001b[39mn_conditions \u001b[38;5;241m>\u001b[39m \u001b[38;5;241m0\u001b[39m:\n",
      "\u001b[0;31mKeyboardInterrupt\u001b[0m: "
     ]
    }
   ],
   "source": [
    "model = trainer.train(model)"
   ]
  },
  {
   "cell_type": "code",
   "execution_count": null,
   "metadata": {},
   "outputs": [
    {
     "name": "stdout",
     "output_type": "stream",
     "text": [
      "Model saved to /home/psaegert/Projects/bcnf/models/bcnf-models/trajectory_TRF_small\n"
     ]
    }
   ],
   "source": [
    "torch.save(model.state_dict(), os.path.join(get_dir('models', 'bcnf-models', MODEL_NAME, create=True), f\"state_dict.pt\"))\n",
    "\n",
    "with open(os.path.join(get_dir('models', 'bcnf-models', MODEL_NAME, create=True), 'config.json'), 'w') as f:\n",
    "    json.dump({'config_path': config_path_pattern}, f)\n",
    "\n",
    "print(f\"Model saved to {get_dir('models', 'bcnf-models', MODEL_NAME)}\")"
   ]
  }
 ],
 "metadata": {
  "kernelspec": {
   "display_name": "bcnf",
   "language": "python",
   "name": "python3"
  },
  "language_info": {
   "codemirror_mode": {
    "name": "ipython",
    "version": 3
   },
   "file_extension": ".py",
   "mimetype": "text/x-python",
   "name": "python",
   "nbconvert_exporter": "python",
   "pygments_lexer": "ipython3",
   "version": "3.11.8"
  }
 },
 "nbformat": 4,
 "nbformat_minor": 2
}
