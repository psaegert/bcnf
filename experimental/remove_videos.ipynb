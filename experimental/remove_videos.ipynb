{
 "cells": [
  {
   "cell_type": "code",
   "execution_count": 41,
   "metadata": {},
   "outputs": [],
   "source": [
    "from bcnf.utils import get_dir"
   ]
  },
  {
   "cell_type": "code",
   "execution_count": 42,
   "metadata": {},
   "outputs": [],
   "source": [
    "import pickle"
   ]
  },
  {
   "cell_type": "code",
   "execution_count": 43,
   "metadata": {},
   "outputs": [],
   "source": [
    "prpcess_file = ('train', 'fixed_data_render_2s_15FPS_4.pkl')"
   ]
  },
  {
   "cell_type": "code",
   "execution_count": 44,
   "metadata": {},
   "outputs": [],
   "source": [
    "with open(get_dir('data', 'bcnf-data-public', prpcess_file[0], prpcess_file[1]), 'rb') as f:\n",
    "    data = pickle.load(f)"
   ]
  },
  {
   "cell_type": "code",
   "execution_count": 45,
   "metadata": {},
   "outputs": [
    {
     "data": {
      "text/plain": [
       "dict_keys(['cams', 'traj', 'x0_x', 'x0_y', 'x0_z', 'v0_x', 'v0_y', 'v0_z', 'g', 'w_x', 'w_y', 'w_z', 'b', 'A', 'Cd', 'rho', 'm', 'a_x', 'a_y', 'a_z', 'cam_radian', 'r', 'cam_radius', 'cam_angles', 'cam_heights'])"
      ]
     },
     "execution_count": 45,
     "metadata": {},
     "output_type": "execute_result"
    }
   ],
   "source": [
    "data.keys()"
   ]
  },
  {
   "cell_type": "code",
   "execution_count": 46,
   "metadata": {},
   "outputs": [],
   "source": [
    "del data['cams']"
   ]
  },
  {
   "cell_type": "code",
   "execution_count": 47,
   "metadata": {},
   "outputs": [
    {
     "data": {
      "text/plain": [
       "dict_keys(['traj', 'x0_x', 'x0_y', 'x0_z', 'v0_x', 'v0_y', 'v0_z', 'g', 'w_x', 'w_y', 'w_z', 'b', 'A', 'Cd', 'rho', 'm', 'a_x', 'a_y', 'a_z', 'cam_radian', 'r', 'cam_radius', 'cam_angles', 'cam_heights'])"
      ]
     },
     "execution_count": 47,
     "metadata": {},
     "output_type": "execute_result"
    }
   ],
   "source": [
    "data.keys()"
   ]
  },
  {
   "cell_type": "code",
   "execution_count": 48,
   "metadata": {},
   "outputs": [],
   "source": [
    "import os"
   ]
  },
  {
   "cell_type": "code",
   "execution_count": 49,
   "metadata": {},
   "outputs": [],
   "source": [
    "with open(get_dir('data', 'bcnf-data-public', f'{prpcess_file[0]}-trajectories', filename=prpcess_file[1], create=True), 'wb') as f:\n",
    "    pickle.dump(data, f)"
   ]
  }
 ],
 "metadata": {
  "kernelspec": {
   "display_name": "bcnf",
   "language": "python",
   "name": "python3"
  },
  "language_info": {
   "codemirror_mode": {
    "name": "ipython",
    "version": 3
   },
   "file_extension": ".py",
   "mimetype": "text/x-python",
   "name": "python",
   "nbconvert_exporter": "python",
   "pygments_lexer": "ipython3",
   "version": "3.11.8"
  }
 },
 "nbformat": 4,
 "nbformat_minor": 2
}
