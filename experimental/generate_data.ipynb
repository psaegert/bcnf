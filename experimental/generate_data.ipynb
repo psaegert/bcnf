{
 "cells": [
  {
   "cell_type": "code",
   "execution_count": 6,
   "metadata": {},
   "outputs": [],
   "source": [
    "from bcnf.simulation.sampling import generate_data\n",
    "from bcnf.utils import get_dir\n",
    "import pickle\n",
    "import os"
   ]
  },
  {
   "cell_type": "code",
   "execution_count": 7,
   "metadata": {},
   "outputs": [
    {
     "name": "stderr",
     "output_type": "stream",
     "text": [
      "100%|██████████| 3000/3000 [28:05<00:00,  1.78it/s, accepted=3000, ratio=1, rejected_distance=0, rejected_runaway=0, rejected_start_underground=0, rejected_visibility=0]\n"
     ]
    }
   ],
   "source": [
    "data = generate_data(\n",
    "    config_file=get_dir('configs', 'data', 'config.yaml'),\n",
    "    n=3000,\n",
    "    output_type='trajectories',\n",
    "    dt=0.01,\n",
    "    T=2,\n",
    "    break_on_impact=True,\n",
    "    do_filter=False,\n",
    "    verbose=True\n",
    ")"
   ]
  },
  {
   "cell_type": "code",
   "execution_count": 8,
   "metadata": {},
   "outputs": [],
   "source": [
    "data_dir = get_dir('data', 'new-trajectories', 'test', create=True)\n",
    "n_files = len(os.listdir(data_dir))"
   ]
  },
  {
   "cell_type": "code",
   "execution_count": 9,
   "metadata": {},
   "outputs": [],
   "source": [
    "data_path = get_dir('data', 'new-trajectories', 'test', f'split-{n_files}.pkl')"
   ]
  },
  {
   "cell_type": "code",
   "execution_count": 10,
   "metadata": {},
   "outputs": [],
   "source": [
    "with open(data_path, 'wb') as f:\n",
    "    pickle.dump(data, f)"
   ]
  }
 ],
 "metadata": {
  "kernelspec": {
   "display_name": "bcnf",
   "language": "python",
   "name": "python3"
  },
  "language_info": {
   "codemirror_mode": {
    "name": "ipython",
    "version": 3
   },
   "file_extension": ".py",
   "mimetype": "text/x-python",
   "name": "python",
   "nbconvert_exporter": "python",
   "pygments_lexer": "ipython3",
   "version": "3.11.8"
  }
 },
 "nbformat": 4,
 "nbformat_minor": 2
}
